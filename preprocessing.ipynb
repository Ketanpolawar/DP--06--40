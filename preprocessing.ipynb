{
 "cells": [
  {
   "cell_type": "markdown",
   "metadata": {},
   "source": [
    "***DATA PREPROCESSING***"
   ]
  },
  {
   "cell_type": "code",
   "execution_count": 1,
   "metadata": {},
   "outputs": [
    {
     "name": "stdout",
     "output_type": "stream",
     "text": [
      "WARNING:tensorflow:From c:\\Python\\Python311\\Lib\\site-packages\\keras\\src\\losses.py:2976: The name tf.losses.sparse_softmax_cross_entropy is deprecated. Please use tf.compat.v1.losses.sparse_softmax_cross_entropy instead.\n",
      "\n"
     ]
    }
   ],
   "source": [
    "import pandas as pd\n",
    "# 2. numpy : Python library hels accesss the mathematical functions ,etc.\n",
    "import numpy as np\n",
    "# 3. matplotlib : build upon the numpy module helps to plot various graphs\n",
    "import matplotlib.pyplot as plt \n",
    "# 4. tensorflow : important module which helps to work with image data set also has keras to use layering properties\n",
    "import tensorflow as tf\n",
    "from tensorflow import keras\n",
    "from keras import layers\n",
    "from  keras import Sequential\n",
    "import cv2"
   ]
  },
  {
   "cell_type": "markdown",
   "metadata": {},
   "source": [
    "***CONVERTING TO GREY SCALE***"
   ]
  },
  {
   "cell_type": "code",
   "execution_count": 19,
   "metadata": {},
   "outputs": [
    {
     "name": "stderr",
     "output_type": "stream",
     "text": [
      "c:\\Python\\Python311\\Lib\\site-packages\\PIL\\Image.py:992: UserWarning: Palette images with Transparency expressed in bytes should be converted to RGBA images\n",
      "  warnings.warn(\n"
     ]
    }
   ],
   "source": [
    "# import os\n",
    "# from PIL import Image\n",
    "\n",
    "# ORIGIN_PATH = r\"C:\\Users\\DHANSHRI\\Desktop\\Classification\\Bones\"\n",
    "# DESTIN_PATH = r\"C:\\Users\\DHANSHRI\\Desktop\\Classification\\Bones1\"\n",
    "\n",
    "# for filename in os.listdir(ORIGIN_PATH):\n",
    "#       # Construct full paths for the original and destination images\n",
    "#         origin_image_path = os.path.join(ORIGIN_PATH, filename)\n",
    "#         destin_image_path = os.path.join(DESTIN_PATH, filename)\n",
    "#         for i in os.listdir(origin_image_path):\n",
    "#             origin_image_path1 = os.path.join(origin_image_path,i)\n",
    "#             destin_image_path1 = os.path.join(destin_image_path, i)\n",
    "#                # Open the image file\n",
    "#             with Image.open(origin_image_path1) as img:\n",
    "#                 # Convert the image to grayscale\n",
    "#                 grayscale_img = img.convert(\"L\")\n",
    "#                 # grayscale_img = img.convert("L")  # Convert to grayscale",
    "#                 # rgb_img = img.convert("RGB")  # Convert to RGB mode",
    "#                 # bw_img = img.convert("1")  # Convert to black and white mode",
    "#                 # Save the converted image to the destination directory\n",
    "#                 grayscale_img.save(destin_image_path1)\n"
   ]
  },
  {
   "cell_type": "markdown",
   "metadata": {},
   "source": [
    "***REMOVING BACKGROUND***"
   ]
  },
  {
   "cell_type": "code",
   "execution_count": null,
   "metadata": {},
   "outputs": [],
   "source": [
    "# import os\n",
    "# from PIL import Image\n",
    "# from rembg import remove\n",
    "\n",
    "# ORIGIN_PATH = r\"C:\\Users\\DHANSHRI\\Desktop\\Classification\\Bones1\"\n",
    "# DESTIN_PATH = r\"C:\\Users\\DHANSHRI\\Desktop\\Classification\\Bones2\"\n",
    "\n",
    "# for filename in os.listdir(ORIGIN_PATH):\n",
    "#       # Construct full paths for the original and destination images\n",
    "#         origin_image_path = os.path.join(ORIGIN_PATH, filename)\n",
    "#         destin_image_path = os.path.join(DESTIN_PATH, filename)\n",
    "#         for i in os.listdir(origin_image_path):\n",
    "#             origin_image_path1 = os.path.join(origin_image_path,i)\n",
    "#             destin_image_path1 = os.path.join(destin_image_path, i)\n",
    "#                # Open the image file\n",
    "#             with Image.open(origin_image_path1) as img:\n",
    "#                 # Convert the image to grayscale\n",
    "#                 output = img.convert(\"L\")\n",
    "#                 output =remove(img)\n",
    "#                 # Save the converted image to the destination directory\n",
    "#                 output.save(destin_image_path1,format=\"PNG\")\n"
   ]
  },
  {
   "cell_type": "markdown",
   "metadata": {},
   "source": [
    "***SHAPRENING IMAGE***"
   ]
  },
  {
   "cell_type": "code",
   "execution_count": 9,
   "metadata": {},
   "outputs": [],
   "source": [
    "# import os\n",
    "# from PIL import ImageEnhance,Image\n",
    "\n",
    "# ORIGIN_PATH = r\"C:\\Users\\DHANSHRI\\Desktop\\Classification\\Projects\\Bones2\"\n",
    "# DESTIN_PATH = r\"C:\\Users\\DHANSHRI\\Desktop\\Classification\\Projects\\Bones3\"\n",
    "\n",
    "# for filename in os.listdir(ORIGIN_PATH):\n",
    "#       # Construct full paths for the original and destination images\n",
    "#         origin_image_path = os.path.join(ORIGIN_PATH, filename)\n",
    "#         destin_image_path = os.path.join(DESTIN_PATH, filename)\n",
    "#         for i in os.listdir(origin_image_path):\n",
    "#             origin_image_path1 = os.path.join(origin_image_path,i)\n",
    "#             destin_image_path1 = os.path.join(destin_image_path, i)\n",
    "#                # Open the image file\n",
    "#             with Image.open(origin_image_path1) as img:\n",
    "#                 enhancer=ImageEnhance.Sharpness(img)\n",
    "#                 out=enhancer.enhance(10.0)\n",
    "#                 # enhancer=ImageEnhance.Contrast(out)\n",
    "#                 # Output=enhancer.enhance(3)\n",
    "\n",
    "#                # Save the converted image to the destination directory\n",
    "#                 out.save(destin_image_path1,format=\"PNG\")"
   ]
  },
  {
   "cell_type": "markdown",
   "metadata": {},
   "source": [
    "***Resizing Images***"
   ]
  },
  {
   "cell_type": "code",
   "execution_count": 6,
   "metadata": {},
   "outputs": [],
   "source": [
    "# import os\n",
    "# from PIL import ImageEnhance,Image\n",
    "\n",
    "# ORIGIN_PATH = r\"C:\\Users\\DHANSHRI\\Desktop\\Classification\\Projects\\Bones3\"\n",
    "# DESTIN_PATH = r\"C:\\Users\\DHANSHRI\\Desktop\\Classification\\Projects\\Bones4\"\n",
    "\n",
    "# for filename in os.listdir(ORIGIN_PATH):\n",
    "#       # Construct full paths for the original and destination images\n",
    "#         origin_image_path = os.path.join(ORIGIN_PATH, filename)\n",
    "#         destin_image_path = os.path.join(DESTIN_PATH, filename)\n",
    "#         for i in os.listdir(origin_image_path):\n",
    "#             origin_image_path1 = os.path.join(origin_image_path,i)\n",
    "#             destin_image_path1 = os.path.join(destin_image_path, i)\n",
    "#                # Open the image file\n",
    "#             with Image.open(origin_image_path1) as img:\n",
    "#                 Out= img.resize((256,256))\n",
    "#                # Save the converted image to the destination directory\n",
    "#                 Out.save(destin_image_path1,format=\"PNG\")"
   ]
  },
  {
   "cell_type": "markdown",
   "metadata": {},
   "source": [
    "***Rotate Images***"
   ]
  },
  {
   "cell_type": "code",
   "execution_count": 7,
   "metadata": {},
   "outputs": [],
   "source": [
    "# import os\n",
    "# from PIL import ImageEnhance,Image\n",
    "\n",
    "# ORIGIN_PATH = r\"C:\\Users\\DHANSHRI\\Desktop\\Classification\\Projects\\Bones4\"\n",
    "# DESTIN_PATH = r\"C:\\Users\\DHANSHRI\\Desktop\\Classification\\Projects\\Bones5\"\n",
    "\n",
    "# for filename in os.listdir(ORIGIN_PATH):\n",
    "#       # Construct full paths for the original and destination images\n",
    "#         origin_image_path = os.path.join(ORIGIN_PATH, filename)\n",
    "#         destin_image_path = os.path.join(DESTIN_PATH, filename)\n",
    "#         for i in os.listdir(origin_image_path):\n",
    "#             origin_image_path1 = os.path.join(origin_image_path,i)\n",
    "#             destin_image_path1 = os.path.join(destin_image_path, i)\n",
    "#                # Open the image file\n",
    "#             with Image.open(origin_image_path1) as img:\n",
    "#                 Out= img.rotate(70)\n",
    "#                # Save the converted image to the destination directory\n",
    "#                 Out.save(destin_image_path1,format=\"PNG\")"
   ]
  },
  {
   "cell_type": "markdown",
   "metadata": {},
   "source": [
    "***vertical flip Images***"
   ]
  },
  {
   "cell_type": "code",
   "execution_count": 8,
   "metadata": {},
   "outputs": [],
   "source": [
    "# import os\n",
    "# from PIL import ImageEnhance,Image\n",
    "\n",
    "# ORIGIN_PATH = r\"C:\\Users\\DHANSHRI\\Desktop\\Classification\\Projects\\Bones4\"\n",
    "# DESTIN_PATH = r\"C:\\Users\\DHANSHRI\\Desktop\\Classification\\Projects\\Bones6\"\n",
    "\n",
    "# for filename in os.listdir(ORIGIN_PATH):\n",
    "#       # Construct full paths for the original and destination images\n",
    "#         origin_image_path = os.path.join(ORIGIN_PATH, filename)\n",
    "#         destin_image_path = os.path.join(DESTIN_PATH, filename)\n",
    "#         for i in os.listdir(origin_image_path):\n",
    "#             origin_image_path1 = os.path.join(origin_image_path,i)\n",
    "#             destin_image_path1 = os.path.join(destin_image_path, i)\n",
    "#                # Open the image file\n",
    "#             with Image.open(origin_image_path1) as img:\n",
    "#                 Out= img.transpose(Image.FLIP_TOP_BOTTOM)\n",
    "#                # Save the converted image to the destination directory\n",
    "#                 Out.save(destin_image_path1,format=\"PNG\")"
   ]
  },
  {
   "cell_type": "markdown",
   "metadata": {},
   "source": [
    "***horizontal flip Images***"
   ]
  },
  {
   "cell_type": "code",
   "execution_count": 9,
   "metadata": {},
   "outputs": [],
   "source": [
    "# import os\n",
    "# from PIL import ImageEnhance,Image\n",
    "\n",
    "# ORIGIN_PATH = r\"C:\\Users\\DHANSHRI\\Desktop\\Classification\\Projects\\Bones4\"\n",
    "# DESTIN_PATH = r\"C:\\Users\\DHANSHRI\\Desktop\\Classification\\Projects\\Bones7\"\n",
    "\n",
    "# for filename in os.listdir(ORIGIN_PATH):\n",
    "#       # Construct full paths for the original and destination images\n",
    "#         origin_image_path = os.path.join(ORIGIN_PATH, filename)\n",
    "#         destin_image_path = os.path.join(DESTIN_PATH, filename)\n",
    "#         for i in os.listdir(origin_image_path):\n",
    "#             origin_image_path1 = os.path.join(origin_image_path,i)\n",
    "#             destin_image_path1 = os.path.join(destin_image_path, i)\n",
    "#                # Open the image file\n",
    "#             with Image.open(origin_image_path1) as img:\n",
    "#                 Out= img.transpose(Image.FLIP_LEFT_RIGHT)\n",
    "#                # Save the converted image to the destination directory\n",
    "#                 Out.save(destin_image_path1,format=\"PNG\")"
   ]
  },
  {
   "cell_type": "markdown",
   "metadata": {},
   "source": [
    "**Resulting the File having uniform  sharp image size in greyscle format having no backgroud**\n"
   ]
  }
 ],
 "metadata": {
  "kernelspec": {
   "display_name": "Python 3",
   "language": "python",
   "name": "python3"
  },
  "language_info": {
   "codemirror_mode": {
    "name": "ipython",
    "version": 3
   },
   "file_extension": ".py",
   "mimetype": "text/x-python",
   "name": "python",
   "nbconvert_exporter": "python",
   "pygments_lexer": "ipython3",
   "version": "3.11.0"
  }
 },
 "nbformat": 4,
 "nbformat_minor": 2
}
